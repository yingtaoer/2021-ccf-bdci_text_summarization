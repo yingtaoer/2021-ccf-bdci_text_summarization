{
 "cells": [
  {
   "cell_type": "code",
   "execution_count": 1,
   "metadata": {},
   "outputs": [
    {
     "data": {
      "text/plain": [
       "'/root/bert-classify'"
      ]
     },
     "execution_count": 1,
     "metadata": {},
     "output_type": "execute_result"
    }
   ],
   "source": [
    "pwd"
   ]
  },
  {
   "cell_type": "code",
   "execution_count": 6,
   "metadata": {},
   "outputs": [
    {
     "name": "stdout",
     "output_type": "stream",
     "text": [
      "Looking in indexes: https://pypi.doubanio.com/simple/\n",
      "Collecting catboost\n",
      "  Downloading https://pypi.doubanio.com/packages/a7/a3/9ffa142ce44c52824557e85bf03ae512666c627a32af109430691298c19e/catboost-1.0.0-cp36-none-manylinux1_x86_64.whl (76.4 MB)\n",
      "\u001b[K     |████████████████████████████████| 76.4 MB 2.7 MB/s eta 0:00:014\n",
      "\u001b[?25hRequirement already satisfied, skipping upgrade: six in /usr/local/lib/python3.6/dist-packages (from catboost) (1.14.0)\n",
      "Requirement already satisfied, skipping upgrade: pandas>=0.24.0 in /usr/local/lib/python3.6/dist-packages (from catboost) (1.0.3)\n",
      "Requirement already satisfied, skipping upgrade: graphviz in /usr/local/lib/python3.6/dist-packages (from catboost) (0.13.2)\n",
      "Requirement already satisfied, skipping upgrade: matplotlib in /usr/local/lib/python3.6/dist-packages (from catboost) (3.2.1)\n",
      "Requirement already satisfied, skipping upgrade: numpy>=1.16.0 in /usr/local/lib/python3.6/dist-packages (from catboost) (1.18.2)\n",
      "Requirement already satisfied, skipping upgrade: scipy in /usr/local/lib/python3.6/dist-packages (from catboost) (1.4.1)\n",
      "Collecting plotly\n",
      "  Downloading https://pypi.doubanio.com/packages/68/b2/7c7d111affebb281b1085680db7358f6204920bb5574e9e84db05c530688/plotly-5.3.1-py2.py3-none-any.whl (23.9 MB)\n",
      "\u001b[K     |████████████████████████████████| 23.9 MB 2.9 MB/s eta 0:00:01\n",
      "\u001b[?25hRequirement already satisfied, skipping upgrade: pytz>=2017.2 in /usr/local/lib/python3.6/dist-packages (from pandas>=0.24.0->catboost) (2019.3)\n",
      "Requirement already satisfied, skipping upgrade: python-dateutil>=2.6.1 in /usr/local/lib/python3.6/dist-packages (from pandas>=0.24.0->catboost) (2.8.1)\n",
      "Requirement already satisfied, skipping upgrade: kiwisolver>=1.0.1 in /usr/local/lib/python3.6/dist-packages (from matplotlib->catboost) (1.1.0)\n",
      "Requirement already satisfied, skipping upgrade: pyparsing!=2.0.4,!=2.1.2,!=2.1.6,>=2.0.1 in /usr/local/lib/python3.6/dist-packages (from matplotlib->catboost) (2.4.6)\n",
      "Requirement already satisfied, skipping upgrade: cycler>=0.10 in /usr/local/lib/python3.6/dist-packages (from matplotlib->catboost) (0.10.0)\n",
      "Collecting tenacity>=6.2.0\n",
      "  Downloading https://pypi.doubanio.com/packages/f2/a5/f86bc8d67c979020438c8559cc70cfe3a1643fd160d35e09c9cca6a09189/tenacity-8.0.1-py3-none-any.whl (24 kB)\n",
      "Requirement already satisfied, skipping upgrade: setuptools in /usr/local/lib/python3.6/dist-packages (from kiwisolver>=1.0.1->matplotlib->catboost) (46.0.0)\n",
      "Installing collected packages: tenacity, plotly, catboost\n",
      "Successfully installed catboost-1.0.0 plotly-5.3.1 tenacity-8.0.1\n",
      "Note: you may need to restart the kernel to use updated packages.\n"
     ]
    }
   ],
   "source": [
    "pip install catboost"
   ]
  },
  {
   "cell_type": "code",
   "execution_count": null,
   "metadata": {},
   "outputs": [],
   "source": [
    "import pandas as pd\n",
    "\n",
    "train = pd.read_csv('guang_dataset/train.csv')\n",
    "test  = pd.read_csv('guang_dataset/test.csv')\n",
    "train\n",
    "\n",
    "import re\n",
    "import jieba as jb\n",
    "import numpy as np\n",
    "import pandas as pd\n",
    "from catboost import CatBoostClassifier\n",
    "\n",
    "def remove_punctuation(line):\n",
    "    line = str(line)\n",
    "    if line.strip()=='':\n",
    "        return ''\n",
    "    rule = re.compile(u\"[^a-zA-Z0-9\\u4E00-\\u9FA5]\")\n",
    "    line = rule.sub('',line)\n",
    "    return line\n",
    "\n",
    "train_df = train[['text','labels']]\n",
    "\n",
    "train_df['clean_text'] = train_df['text'].apply(remove_punctuation)\n",
    "train_df['cut_text'] = train_df['clean_text'].apply(lambda x:\" \".join([w for w in list(jb.cut(x))]))\n",
    "\n",
    "y = train_df['labels']\n",
    "X_train=np.array(train_df['cut_text'].astype('str'))\n",
    "\n",
    "model = CatBoostClassifier(task_type='GPU')\n",
    "model.fit(X_train,y,text_features=[0])\n",
    "\n",
    "X_train[:2]\n",
    "\n"
   ]
  },
  {
   "cell_type": "code",
   "execution_count": null,
   "metadata": {},
   "outputs": [],
   "source": [
    "label = []\n",
    "for i in range(test.shape[0]):\n",
    "    label.append(model.predict([test[i]]))"
   ]
  },
  {
   "cell_type": "code",
   "execution_count": null,
   "metadata": {},
   "outputs": [],
   "source": [
    "label = []\n",
    "for i in range(X_train.shape[0]):\n",
    "    label.append(model.predict([X_train[i]]))\n",
    "\n",
    "train['preds'] = label\n",
    "train\n",
    "\n",
    "print(train.labels.value_counts())\n",
    "print(train.preds.value_counts())\n",
    "\n",
    "from sklearn.metrics import classification_report,f1_score\n",
    "\n",
    "print(\"macro_f1:\",f1_score(train['labels'], train['preds'], average='macro'))\n",
    "print(classification_report(train['labels'], train['preds'],digits=4))\n",
    "\n",
    "test\n",
    "\n",
    "test_df = test[['text','labels']]\n",
    "test_df['clean_text'] = test_df['text'].apply(remove_punctuation)\n",
    "test_df['cut_text'] = train_df['clean_text'].apply(lambda x: \" \".join([w for w in list(jb.cut(x))]))\n",
    "X_test = np.array(test_df['cut_text'].apply(lambda x:\" \".join([w for w in list(jb.cut(x))])))\n",
    "\n",
    "\n",
    "label = []\n",
    "for i in range(X_test.shape[0]):\n",
    "    label.append(model.predict([X_test[i]]))\n",
    "\n",
    "test['preds'] = label\n",
    "\n",
    "\n",
    "from sklearn.metrics import classification_report,f1_score\n",
    "\n",
    "print(\"macro_f1:\",f1_score(test['labels'], test['preds'], average='macro'))\n",
    "print(classification_report(test['labels'], test['preds'],digits=4))"
   ]
  }
 ],
 "metadata": {
  "kernelspec": {
   "display_name": "Python 3",
   "language": "python",
   "name": "python3"
  },
  "language_info": {
   "codemirror_mode": {
    "name": "ipython",
    "version": 3
   },
   "file_extension": ".py",
   "mimetype": "text/x-python",
   "name": "python",
   "nbconvert_exporter": "python",
   "pygments_lexer": "ipython3",
   "version": "3.6.9"
  }
 },
 "nbformat": 4,
 "nbformat_minor": 4
}
